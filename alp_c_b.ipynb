{
 "cells": [
  {
   "cell_type": "markdown",
   "metadata": {},
   "source": [
    "Alpha Centauri B https://www.aanda.org/articles/aa/pdf/2017/01/aa29505-16.pdf R =0.8632 * R_sun"
   ]
  },
  {
   "cell_type": "code",
   "execution_count": 2,
   "metadata": {
    "id": "9cOipvvMzCQg"
   },
   "outputs": [],
   "source": [
    "from astropy.table import Table\n",
    "import matplotlib.pyplot as plt\n",
    "import numpy as np\n",
    "from astropy import units as u\n",
    "from astroquery.vizier import Vizier\n",
    "from astropy.constants import h, c, k_B, R_sun"
   ]
  },
  {
   "cell_type": "code",
   "execution_count": 3,
   "metadata": {
    "colab": {
     "base_uri": "https://localhost:8080/",
     "height": 37
    },
    "id": "V5JSCFHvzDHW",
    "outputId": "c0906afc-a2f1-4d65-a7a0-ccdab64e59d2"
   },
   "outputs": [
    {
     "data": {
      "text/latex": [
       "$0.0040142833 \\; \\mathrm{AU}$"
      ],
      "text/plain": [
       "<Quantity 0.00401428 AU>"
      ]
     },
     "execution_count": 3,
     "metadata": {},
     "output_type": "execute_result"
    }
   ],
   "source": [
    "R = (0.8632 * R_sun).to(u.au)\n",
    "R"
   ]
  },
  {
   "cell_type": "code",
   "execution_count": 4,
   "metadata": {
    "colab": {
     "base_uri": "https://localhost:8080/",
     "height": 37
    },
    "id": "Ltfzzqqg5z3h",
    "outputId": "3f3543b8-24df-4516-c1fe-b19461a66b57"
   },
   "outputs": [
    {
     "data": {
      "text/latex": [
       "$276394.84 \\; \\mathrm{AU}$"
      ],
      "text/plain": [
       "<Quantity 276394.84037111 AU>"
      ]
     },
     "execution_count": 4,
     "metadata": {},
     "output_type": "execute_result"
    }
   ],
   "source": [
    "D = (1.34 * u.pc).to(u.au)\n",
    "D"
   ]
  },
  {
   "cell_type": "code",
   "execution_count": 5,
   "metadata": {
    "colab": {
     "base_uri": "https://localhost:8080/",
     "height": 449
    },
    "id": "KVQxUAzc7zHQ",
    "outputId": "d4877357-6e78-4446-8c8e-b55f998e3b73"
   },
   "outputs": [
    {
     "data": {
      "image/png": "[encoded data removed]",
      "text/plain": [
       "<Figure size 640x480 with 1 Axes>"
      ]
     },
     "metadata": {},
     "output_type": "display_data"
    }
   ],
   "source": [
    "radius=5\n",
    "target=\"Alpha+Centauri+B\"\n",
    "sed=Table.read(f\"https://vizier.cds.unistra.fr/viz-bin/sed?-c={target}&-c.rs={radius}\")\n",
    "\n",
    "fig = plt.figure()\n",
    "ax = fig.add_subplot()\n",
    "ax.set_xlabel('freq (GHz)')\n",
    "ax.set_ylabel('Flux (Jsky)')\n",
    "\n",
    "ax.scatter(sed[\"sed_freq\"], sed[\"sed_flux\"])\n",
    "plt.show()"
   ]
  },
  {
   "cell_type": "code",
   "execution_count": 6,
   "metadata": {
    "id": "2UOnQU9pdWOL"
   },
   "outputs": [],
   "source": [
    "eflux = np.array(np.nan_to_num(sed['sed_eflux']))\n",
    "mask = np.where(eflux != 0)\n",
    "sed= sed[mask]"
   ]
  },
  {
   "cell_type": "code",
   "execution_count": 7,
   "metadata": {
    "colab": {
     "base_uri": "https://localhost:8080/"
    },
    "id": "MK5r0S6XygO4",
    "outputId": "bf8147fa-36ef-4a91-e7b6-656627dff360"
   },
   "outputs": [
    {
     "data": {
      "text/plain": [
       "<Table length=68>\n",
       "   name     dtype  unit   format                                                                                              description                                                                                             n_bad\n",
       "---------- ------- ---- --------- --------------------------------------------------------------------------------------------------------------------------------------------------------------------------------------------------- -----\n",
       "  _RAJ2000 float64  deg {:14.10f}                                                                                                            Right ascension (FK5, Equinox=J2000.0) at Epoch=J2000, proper motions taken into account     0\n",
       "  _DEJ2000 float64  deg {:14.10f}                                                                                                                Declination (FK5, Equinox=J2000.0) at Epoch=J2000, proper motions taken into account     0\n",
       "  _tabname   str32                                                                                                                                                                                                         Table name     0\n",
       "       _ID   str64                                                                                                                                                                                    String which identifies the row     0\n",
       "     _time float64    d  {:14.6f}                                                                                                                                                                         time (JD) in TCB/barycenter    68\n",
       "    _etime float64        {:7.1f}                                                                                                                                                        time error (uncertainty and time conversion)     0\n",
       "  sed_freq float64  GHz  {:10.6g}                                                                                                                                                                              Mean frequency, in GHz     0\n",
       "  sed_flux float32   Jy   {:9.3g}                                                                                                                                                                   Corresponding flux density, in Jy     0\n",
       " sed_eflux float32   Jy   {:8.2g}                                                                                                                                                    Mean error (standard deviations) of flux density     0\n",
       "sed_filter   str32                Filter designation, in the form photoSystem:filterName; a designation starting by ':=' is an assumed monochromatic point; this column is empty when the frequency is specified for each data point.     0"
      ]
     },
     "execution_count": 7,
     "metadata": {},
     "output_type": "execute_result"
    }
   ],
   "source": [
    "sed.info"
   ]
  },
  {
   "cell_type": "code",
   "execution_count": 8,
   "metadata": {
    "colab": {
     "base_uri": "https://localhost:8080/"
    },
    "id": "HSSJdwB0dYXl",
    "outputId": "11620690-1f24-4647-aed2-8b67dba6de6d"
   },
   "outputs": [
    {
     "data": {
      "text/html": [
       "&lt;MaskedColumn name=&apos;sed_filter&apos; dtype=&apos;str32&apos; unit=&apos;&apos; description=&quot;Filter designation, in the form photoSystem:filterName; a designation starting by &apos;:=&apos; is an assumed monochromatic point; this column is empty when the frequency is specified for each data point.&quot; length=68&gt;\n",
       "<table>\n",
       "<tr><td>Johnson:B</td></tr>\n",
       "<tr><td>POSS-II:F</td></tr>\n",
       "<tr><td>2MASS:H</td></tr>\n",
       "<tr><td>2MASS:J</td></tr>\n",
       "<tr><td>2MASS:H</td></tr>\n",
       "<tr><td>2MASS:J</td></tr>\n",
       "<tr><td>2MASS:Ks</td></tr>\n",
       "<tr><td>Johnson:H</td></tr>\n",
       "<tr><td>Johnson:J</td></tr>\n",
       "<tr><td>Johnson:V</td></tr>\n",
       "<tr><td>2MASS:Ks</td></tr>\n",
       "<tr><td>Johnson:H</td></tr>\n",
       "<tr><td>...</td></tr>\n",
       "<tr><td>2MASS:Ks</td></tr>\n",
       "<tr><td>2MASS:H</td></tr>\n",
       "<tr><td>2MASS:J</td></tr>\n",
       "<tr><td>Johnson:K</td></tr>\n",
       "<tr><td>Johnson:V</td></tr>\n",
       "<tr><td>Johnson:K</td></tr>\n",
       "<tr><td>Johnson:V</td></tr>\n",
       "<tr><td>WISE:W4</td></tr>\n",
       "<tr><td>WISE:W3</td></tr>\n",
       "<tr><td>Johnson:K</td></tr>\n",
       "<tr><td>Johnson:K</td></tr>\n",
       "</table>"
      ],
      "text/plain": [
       "<MaskedColumn name='sed_filter' dtype='str32' unit='' description=\"Filter designation, in the form photoSystem:filterName; a designation starting by ':=' is an assumed monochromatic point; this column is empty when the frequency is specified for each data point.\" length=68>\n",
       "Johnson:B\n",
       "POSS-II:F\n",
       "  2MASS:H\n",
       "  2MASS:J\n",
       "  2MASS:H\n",
       "  2MASS:J\n",
       " 2MASS:Ks\n",
       "Johnson:H\n",
       "Johnson:J\n",
       "Johnson:V\n",
       " 2MASS:Ks\n",
       "Johnson:H\n",
       "      ...\n",
       " 2MASS:Ks\n",
       "  2MASS:H\n",
       "  2MASS:J\n",
       "Johnson:K\n",
       "Johnson:V\n",
       "Johnson:K\n",
       "Johnson:V\n",
       "  WISE:W4\n",
       "  WISE:W3\n",
       "Johnson:K\n",
       "Johnson:K"
      ]
     },
     "execution_count": 8,
     "metadata": {},
     "output_type": "execute_result"
    }
   ],
   "source": [
    "sed['sed_filter']"
   ]
  },
  {
   "cell_type": "code",
   "execution_count": 9,
   "metadata": {
    "id": "EtDK4Hyldxx-"
   },
   "outputs": [],
   "source": [
    "t = Table()\n",
    "t['lambda_nm'] = sed['sed_freq'].to(u.nm, equivalencies=u.spectral())\n",
    "t['flux'] = np.array(sed['sed_flux'])\n",
    "t['eflux'] = eflux[mask]"
   ]
  },
  {
   "cell_type": "code",
   "execution_count": 10,
   "metadata": {
    "colab": {
     "base_uri": "https://localhost:8080/",
     "height": 506
    },
    "id": "_zLqnu5udyul",
    "outputId": "a5d4786c-e111-49e3-a0ab-f1ab3c49704b"
   },
   "outputs": [
    {
     "data": {
      "text/html": [
       "<div><i>Table length=68</i>\n",
       "<table id=\"table140264626358176\" class=\"table-striped table-bordered table-condensed\">\n",
       "<thead><tr><th>lambda_nm</th><th>flux</th><th>eflux</th></tr></thead>\n",
       "<thead><tr><th>nm</th><th></th><th></th></tr></thead>\n",
       "<thead><tr><th>float64</th><th>float32</th><th>float32</th></tr></thead>\n",
       "<tr><td>444.203</td><td>536.0</td><td>10.0</td></tr>\n",
       "<tr><td>639.994</td><td>9.05e-05</td><td>4.88e-05</td></tr>\n",
       "<tr><td>1649.48</td><td>5960.0</td><td>1220.0</td></tr>\n",
       "<tr><td>1239.02</td><td>6020.0</td><td>740.0</td></tr>\n",
       "<tr><td>1649.48</td><td>5960.0</td><td>1220.0</td></tr>\n",
       "<tr><td>1239.02</td><td>6020.0</td><td>740.0</td></tr>\n",
       "<tr><td>2163.79</td><td>4290.0</td><td>1040.0</td></tr>\n",
       "<tr><td>1630.02</td><td>5910.0</td><td>1210.0</td></tr>\n",
       "<tr><td>1250.02</td><td>6140.0</td><td>750.0</td></tr>\n",
       "<tr><td>...</td><td>...</td><td>...</td></tr>\n",
       "<tr><td>1239.02</td><td>413.0</td><td>51.0</td></tr>\n",
       "<tr><td>2190.02</td><td>1130.0</td><td>320.0</td></tr>\n",
       "<tr><td>553.705</td><td>1070.0</td><td>10.0</td></tr>\n",
       "<tr><td>2190.02</td><td>1130.0</td><td>320.0</td></tr>\n",
       "<tr><td>553.705</td><td>1070.0</td><td>10.0</td></tr>\n",
       "<tr><td>22090.7</td><td>25.1</td><td>0.2</td></tr>\n",
       "<tr><td>11559.8</td><td>60.4</td><td>22.9</td></tr>\n",
       "<tr><td>2190.02</td><td>4150.0</td><td>1000.0</td></tr>\n",
       "<tr><td>2190.02</td><td>1130.0</td><td>1180.0</td></tr>\n",
       "</table></div>"
      ],
      "text/plain": [
       "<Table length=68>\n",
       "lambda_nm    flux    eflux  \n",
       "    nm                      \n",
       " float64   float32  float32 \n",
       "---------- -------- --------\n",
       "   444.203    536.0     10.0\n",
       "   639.994 9.05e-05 4.88e-05\n",
       "   1649.48   5960.0   1220.0\n",
       "   1239.02   6020.0    740.0\n",
       "   1649.48   5960.0   1220.0\n",
       "   1239.02   6020.0    740.0\n",
       "   2163.79   4290.0   1040.0\n",
       "   1630.02   5910.0   1210.0\n",
       "   1250.02   6140.0    750.0\n",
       "       ...      ...      ...\n",
       "   1239.02    413.0     51.0\n",
       "   2190.02   1130.0    320.0\n",
       "   553.705   1070.0     10.0\n",
       "   2190.02   1130.0    320.0\n",
       "   553.705   1070.0     10.0\n",
       "   22090.7     25.1      0.2\n",
       "   11559.8     60.4     22.9\n",
       "   2190.02   4150.0   1000.0\n",
       "   2190.02   1130.0   1180.0"
      ]
     },
     "execution_count": 10,
     "metadata": {},
     "output_type": "execute_result"
    }
   ],
   "source": [
    "t"
   ]
  },
  {
   "cell_type": "code",
   "execution_count": 11,
   "metadata": {
    "colab": {
     "base_uri": "https://localhost:8080/",
     "height": 506
    },
    "id": "IGfzHWKFd-g3",
    "outputId": "e92bb5a2-f219-4281-b5e9-76e13531841e"
   },
   "outputs": [
    {
     "data": {
      "text/html": [
       "<div><i>Table length=13</i>\n",
       "<table id=\"table140264627410352\" class=\"table-striped table-bordered table-condensed\">\n",
       "<thead><tr><th>lambda_nm</th><th>flux</th><th>eflux</th></tr></thead>\n",
       "<thead><tr><th>nm</th><th></th><th></th></tr></thead>\n",
       "<thead><tr><th>float64</th><th>float32</th><th>float32</th></tr></thead>\n",
       "<tr><td>444.203</td><td>536.0</td><td>10.0</td></tr>\n",
       "<tr><td>1239.02</td><td>6020.0</td><td>740.0</td></tr>\n",
       "<tr><td>1239.02</td><td>6020.0</td><td>740.0</td></tr>\n",
       "<tr><td>1250.02</td><td>6140.0</td><td>750.0</td></tr>\n",
       "<tr><td>553.705</td><td>1050.0</td><td>100.0</td></tr>\n",
       "<tr><td>1250.02</td><td>6140.0</td><td>750.0</td></tr>\n",
       "<tr><td>553.705</td><td>1050.0</td><td>100.0</td></tr>\n",
       "<tr><td>444.203</td><td>536.0</td><td>10.0</td></tr>\n",
       "<tr><td>553.705</td><td>1050.0</td><td>10.0</td></tr>\n",
       "<tr><td>444.203</td><td>552.0</td><td>12.0</td></tr>\n",
       "<tr><td>1239.02</td><td>413.0</td><td>51.0</td></tr>\n",
       "<tr><td>553.705</td><td>1070.0</td><td>10.0</td></tr>\n",
       "<tr><td>553.705</td><td>1070.0</td><td>10.0</td></tr>\n",
       "</table></div>"
      ],
      "text/plain": [
       "<Table length=13>\n",
       "lambda_nm    flux   eflux \n",
       "    nm                    \n",
       " float64   float32 float32\n",
       "---------- ------- -------\n",
       "   444.203   536.0    10.0\n",
       "   1239.02  6020.0   740.0\n",
       "   1239.02  6020.0   740.0\n",
       "   1250.02  6140.0   750.0\n",
       "   553.705  1050.0   100.0\n",
       "   1250.02  6140.0   750.0\n",
       "   553.705  1050.0   100.0\n",
       "   444.203   536.0    10.0\n",
       "   553.705  1050.0    10.0\n",
       "   444.203   552.0    12.0\n",
       "   1239.02   413.0    51.0\n",
       "   553.705  1070.0    10.0\n",
       "   553.705  1070.0    10.0"
      ]
     },
     "execution_count": 11,
     "metadata": {},
     "output_type": "execute_result"
    }
   ],
   "source": [
    "t = t[np.where(t['eflux'] < 0.2 * t['flux'])]\n",
    "t = t[np.where(t['lambda_nm'].data < 3000)]\n",
    "t"
   ]
  },
  {
   "cell_type": "code",
   "execution_count": 12,
   "metadata": {
    "colab": {
     "base_uri": "https://localhost:8080/",
     "height": 447
    },
    "id": "nkpUhkBwexfM",
    "outputId": "93a4160c-e633-47a2-8478-c8ac43969066"
   },
   "outputs": [
    {
     "data": {
      "text/plain": [
       "<ErrorbarContainer object of 3 artists>"
      ]
     },
     "execution_count": 12,
     "metadata": {},
     "output_type": "execute_result"
    },
    {
     "data": {
      "image/png": "[encoded data removed]",
      "text/plain": [
       "<Figure size 640x480 with 1 Axes>"
      ]
     },
     "metadata": {},
     "output_type": "display_data"
    }
   ],
   "source": [
    "plt.scatter(t['lambda_nm'].data, t['flux'], c='blue', linewidth=1, s=6)\n",
    "plt.errorbar(t['lambda_nm'].data, t['flux'], yerr=t['eflux'], fmt='none', ecolor='red', elinewidth=0.5, capsize=2)"
   ]
  },
  {
   "cell_type": "code",
   "execution_count": 13,
   "metadata": {
    "id": "tUMXzhWBfDh3"
   },
   "outputs": [],
   "source": [
    "# t = t[np.where(t['eflux'] < 300)]"
   ]
  },
  {
   "cell_type": "code",
   "execution_count": 14,
   "metadata": {
    "colab": {
     "base_uri": "https://localhost:8080/",
     "height": 447
    },
    "id": "DE2ay3A7fJid",
    "outputId": "efa9f800-b81d-410f-edf4-c325d527771f"
   },
   "outputs": [
    {
     "data": {
      "text/plain": [
       "<ErrorbarContainer object of 3 artists>"
      ]
     },
     "execution_count": 14,
     "metadata": {},
     "output_type": "execute_result"
    },
    {
     "data": {
      "image/png": "[encoded data removed]",
      "text/plain": [
       "<Figure size 640x480 with 1 Axes>"
      ]
     },
     "metadata": {},
     "output_type": "display_data"
    }
   ],
   "source": [
    "plt.scatter(t['lambda_nm'].data, t['flux'], c='blue', linewidth=1, s=6)\n",
    "plt.errorbar(t['lambda_nm'].data, t['flux'], yerr=t['eflux'], fmt='none', ecolor='red', elinewidth=0.5, capsize=2)"
   ]
  },
  {
   "cell_type": "code",
   "execution_count": 15,
   "metadata": {
    "id": "6J38DlRYfdg7"
   },
   "outputs": [],
   "source": [
    "t = t[t['flux'] > 1000]"
   ]
  },
  {
   "cell_type": "code",
   "execution_count": 16,
   "metadata": {
    "colab": {
     "base_uri": "https://localhost:8080/",
     "height": 293
    },
    "id": "X4KHzx06f0MZ",
    "outputId": "b0399755-c4aa-4003-ffb5-d59ec86360a9"
   },
   "outputs": [
    {
     "data": {
      "text/html": [
       "<div><i>Table length=9</i>\n",
       "<table id=\"table140264626877696\" class=\"table-striped table-bordered table-condensed\">\n",
       "<thead><tr><th>lambda_nm</th><th>flux</th><th>eflux</th></tr></thead>\n",
       "<thead><tr><th>nm</th><th></th><th></th></tr></thead>\n",
       "<thead><tr><th>float64</th><th>float32</th><th>float32</th></tr></thead>\n",
       "<tr><td>1239.02</td><td>6020.0</td><td>740.0</td></tr>\n",
       "<tr><td>1239.02</td><td>6020.0</td><td>740.0</td></tr>\n",
       "<tr><td>1250.02</td><td>6140.0</td><td>750.0</td></tr>\n",
       "<tr><td>553.705</td><td>1050.0</td><td>100.0</td></tr>\n",
       "<tr><td>1250.02</td><td>6140.0</td><td>750.0</td></tr>\n",
       "<tr><td>553.705</td><td>1050.0</td><td>100.0</td></tr>\n",
       "<tr><td>553.705</td><td>1050.0</td><td>10.0</td></tr>\n",
       "<tr><td>553.705</td><td>1070.0</td><td>10.0</td></tr>\n",
       "<tr><td>553.705</td><td>1070.0</td><td>10.0</td></tr>\n",
       "</table></div>"
      ],
      "text/plain": [
       "<Table length=9>\n",
       "lambda_nm    flux   eflux \n",
       "    nm                    \n",
       " float64   float32 float32\n",
       "---------- ------- -------\n",
       "   1239.02  6020.0   740.0\n",
       "   1239.02  6020.0   740.0\n",
       "   1250.02  6140.0   750.0\n",
       "   553.705  1050.0   100.0\n",
       "   1250.02  6140.0   750.0\n",
       "   553.705  1050.0   100.0\n",
       "   553.705  1050.0    10.0\n",
       "   553.705  1070.0    10.0\n",
       "   553.705  1070.0    10.0"
      ]
     },
     "execution_count": 16,
     "metadata": {},
     "output_type": "execute_result"
    }
   ],
   "source": [
    "t"
   ]
  },
  {
   "cell_type": "code",
   "execution_count": 17,
   "metadata": {
    "colab": {
     "base_uri": "https://localhost:8080/",
     "height": 447
    },
    "id": "Zor6JZ3vjI-2",
    "outputId": "04e0ad81-1a9b-4297-9e3a-5ed77ebea692"
   },
   "outputs": [
    {
     "data": {
      "text/plain": [
       "<ErrorbarContainer object of 3 artists>"
      ]
     },
     "execution_count": 17,
     "metadata": {},
     "output_type": "execute_result"
    },
    {
     "data": {
      "image/png": "[encoded data removed]",
      "text/plain": [
       "<Figure size 640x480 with 1 Axes>"
      ]
     },
     "metadata": {},
     "output_type": "display_data"
    }
   ],
   "source": [
    "plt.scatter(t['lambda_nm'].data, t['flux'], c='blue', linewidth=1, s=6)\n",
    "plt.errorbar(t['lambda_nm'].data, t['flux'], yerr=t['eflux'], fmt='none', ecolor='red', elinewidth=0.5, capsize=2)"
   ]
  },
  {
   "cell_type": "code",
   "execution_count": 18,
   "metadata": {
    "id": "eBTxijTV5BEO"
   },
   "outputs": [],
   "source": [
    "def planck_law_lambda(wavelength, T):\n",
    "    wavelength_m = wavelength.to(u.m)\n",
    "    return (2*np.pi*h*c*c/wavelength_m**5)*(1/(np.exp(h*c/(wavelength_m*k_B*T))-1)) * (R / D)**2"
   ]
  },
  {
   "cell_type": "code",
   "execution_count": 19,
   "metadata": {
    "id": "1O0khZEssvqP"
   },
   "outputs": [],
   "source": [
    "def planck_jy(wavelength, T):\n",
    "    wave = np.array(wavelength) * u.nm\n",
    "    wavelength_m = wave.to(u.m)\n",
    "    B_lambda = (2 * h * c**2 / wavelength_m**5) / (np.exp(h * c / (wavelength_m * k_B * T)) - 1)\n",
    "    F_lambda = np.pi * B_lambda * (R / D)**2\n",
    "    F_nu = F_lambda.to(u.Jy, equivalencies=u.spectral_density(wavelength_m))\n",
    "    return F_nu"
   ]
  },
  {
   "cell_type": "code",
   "execution_count": 20,
   "metadata": {
    "id": "cSO0P2Ko5QQx"
   },
   "outputs": [],
   "source": [
    "def chi_squ(T):\n",
    "    T = T * u.K\n",
    "    model = planck_law_lambda(t['lambda_nm'], T)\n",
    "    wavelengths = np.array(t['lambda_nm'].data) * u.nm\n",
    "    model = model.to(u.Jy, equivalencies=u.spectral_density(wavelengths))\n",
    "    chi2 = np.sum((((t['flux'] * u.Jy - model) ** 2) / (t['eflux']* u.Jy) ** 2))\n",
    "    return chi2"
   ]
  },
  {
   "cell_type": "code",
   "execution_count": 21,
   "metadata": {
    "colab": {
     "base_uri": "https://localhost:8080/"
    },
    "id": "irTvlwiE5UOx",
    "outputId": "fed4035e-415e-4cfa-b351-0b6213b828b0"
   },
   "outputs": [
    {
     "name": "stdout",
     "output_type": "stream",
     "text": [
      "Optimization terminated successfully.\n",
      "         Current function value: 143.193908\n",
      "         Iterations: 25\n",
      "         Function evaluations: 50\n",
      "Оптимальная температура: 5208.643421769142 K\n"
     ]
    }
   ],
   "source": [
    "from scipy import optimize\n",
    "minimum = optimize.fmin(chi_squ, 5770)\n",
    "print(f\"Оптимальная температура: {minimum[0]} K\")"
   ]
  },
  {
   "cell_type": "code",
   "execution_count": 22,
   "metadata": {
    "colab": {
     "base_uri": "https://localhost:8080/"
    },
    "id": "WuDlNVArzVtP",
    "outputId": "78f0669d-d92c-43cd-e80d-1c3b1e940b4f"
   },
   "outputs": [
    {
     "data": {
      "text/plain": [
       "0.875"
      ]
     },
     "execution_count": 22,
     "metadata": {},
     "output_type": "execute_result"
    }
   ],
   "source": [
    "chi_squ_red = 7 / (len(t) - 1)\n",
    "chi_squ_red"
   ]
  },
  {
   "cell_type": "code",
   "execution_count": 23,
   "metadata": {
    "colab": {
     "base_uri": "https://localhost:8080/",
     "height": 447
    },
    "id": "QIpqLAOfkpAb",
    "outputId": "cc2f914d-d015-4e02-c72c-34a52d5f0aca"
   },
   "outputs": [
    {
     "data": {
      "text/plain": [
       "<matplotlib.collections.PathCollection at 0x7f91e520e030>"
      ]
     },
     "execution_count": 23,
     "metadata": {},
     "output_type": "execute_result"
    },
    {
     "data": {
      "image/png": "[encoded data removed]",
      "text/plain": [
       "<Figure size 640x480 with 1 Axes>"
      ]
     },
     "metadata": {},
     "output_type": "display_data"
    }
   ],
   "source": [
    "plt.scatter(t['lambda_nm'].data, t['flux'], c='blue', linewidth=1, s=6)\n",
    "plt.errorbar(t['lambda_nm'].data, t['flux'], yerr=t['eflux'], fmt='none', ecolor='red', elinewidth=0.5, capsize=2)\n",
    "wavelengths = np.array(t['lambda_nm'].data) * u.nm\n",
    "plt.scatter(t['lambda_nm'].data,  (planck_law_lambda(t['lambda_nm'], 6919 * u.K).to(u.Jy, equivalencies=u.spectral_density(wavelengths))), c='green', linewidth=1, s=6)"
   ]
  },
  {
   "cell_type": "code",
   "execution_count": 24,
   "metadata": {
    "colab": {
     "base_uri": "https://localhost:8080/",
     "height": 506
    },
    "id": "XLQllHZMnwy4",
    "outputId": "37d89c8a-9a07-44c9-be4d-687906859792"
   },
   "outputs": [
    {
     "data": {
      "text/html": [
       "<div><i>Table length=68</i>\n",
       "<table id=\"table140264625881840\" class=\"table-striped table-bordered table-condensed\">\n",
       "<thead><tr><th>_RAJ2000</th><th>_DEJ2000</th></tr></thead>\n",
       "<thead><tr><th>deg</th><th>deg</th></tr></thead>\n",
       "<thead><tr><th>float64</th><th>float64</th></tr></thead>\n",
       "<tr><td>219.8961680000</td><td>-60.8371540000</td></tr>\n",
       "<tr><td>219.8960300000</td><td>-60.8369150000</td></tr>\n",
       "<tr><td>219.8961667000</td><td>-60.8371667000</td></tr>\n",
       "<tr><td>219.8961667000</td><td>-60.8371667000</td></tr>\n",
       "<tr><td>219.8961667000</td><td>-60.8371667000</td></tr>\n",
       "<tr><td>219.8961667000</td><td>-60.8371667000</td></tr>\n",
       "<tr><td>219.8962000000</td><td>-60.8372000000</td></tr>\n",
       "<tr><td>219.8962000000</td><td>-60.8372000000</td></tr>\n",
       "<tr><td>219.8962000000</td><td>-60.8372000000</td></tr>\n",
       "<tr><td>...</td><td>...</td></tr>\n",
       "<tr><td>219.8960958300</td><td>-60.8375277800</td></tr>\n",
       "<tr><td>219.8960964000</td><td>-60.8375275000</td></tr>\n",
       "<tr><td>219.8960964000</td><td>-60.8375275000</td></tr>\n",
       "<tr><td>219.8960964000</td><td>-60.8375275000</td></tr>\n",
       "<tr><td>219.8960964000</td><td>-60.8375275000</td></tr>\n",
       "<tr><td>219.8961000000</td><td>-60.8375277800</td></tr>\n",
       "<tr><td>219.8961000000</td><td>-60.8375277800</td></tr>\n",
       "<tr><td>219.8961000000</td><td>-60.8375277800</td></tr>\n",
       "<tr><td>219.8960963000</td><td>-60.8375276000</td></tr>\n",
       "</table></div>"
      ],
      "text/plain": [
       "<Table length=68>\n",
       "   _RAJ2000       _DEJ2000   \n",
       "     deg            deg      \n",
       "   float64        float64    \n",
       "-------------- --------------\n",
       "219.8961680000 -60.8371540000\n",
       "219.8960300000 -60.8369150000\n",
       "219.8961667000 -60.8371667000\n",
       "219.8961667000 -60.8371667000\n",
       "219.8961667000 -60.8371667000\n",
       "219.8961667000 -60.8371667000\n",
       "219.8962000000 -60.8372000000\n",
       "219.8962000000 -60.8372000000\n",
       "219.8962000000 -60.8372000000\n",
       "           ...            ...\n",
       "219.8960958300 -60.8375277800\n",
       "219.8960964000 -60.8375275000\n",
       "219.8960964000 -60.8375275000\n",
       "219.8960964000 -60.8375275000\n",
       "219.8960964000 -60.8375275000\n",
       "219.8961000000 -60.8375277800\n",
       "219.8961000000 -60.8375277800\n",
       "219.8961000000 -60.8375277800\n",
       "219.8960963000 -60.8375276000"
      ]
     },
     "execution_count": 24,
     "metadata": {},
     "output_type": "execute_result"
    }
   ],
   "source": [
    "sed['_RAJ2000', '_DEJ2000']"
   ]
  },
  {
   "cell_type": "code",
   "execution_count": 25,
   "metadata": {
    "colab": {
     "base_uri": "https://localhost:8080/"
    },
    "id": "vH31X3N11XoK",
    "outputId": "d7d8fcc2-0dca-4656-ac0e-34d68348efd1"
   },
   "outputs": [
    {
     "name": "stdout",
     "output_type": "stream",
     "text": [
      "Requirement already satisfied: astropy_healpix in /home/daria/anaconda3/lib/python3.12/site-packages (1.1.2)\n",
      "Requirement already satisfied: numpy>=1.25 in /home/daria/anaconda3/lib/python3.12/site-packages (from astropy_healpix) (1.26.4)\n",
      "Requirement already satisfied: astropy>=5 in /home/daria/anaconda3/lib/python3.12/site-packages (from astropy_healpix) (6.1.0)\n",
      "Requirement already satisfied: pyerfa>=2.0.1.1 in /home/daria/anaconda3/lib/python3.12/site-packages (from astropy>=5->astropy_healpix) (2.0.1.4)\n",
      "Requirement already satisfied: astropy-iers-data>=0.2024.4.29.0.28.48 in /home/daria/anaconda3/lib/python3.12/site-packages (from astropy>=5->astropy_healpix) (0.2024.6.3.0.31.14)\n",
      "Requirement already satisfied: PyYAML>=3.13 in /home/daria/anaconda3/lib/python3.12/site-packages (from astropy>=5->astropy_healpix) (6.0.1)\n",
      "Requirement already satisfied: packaging>=19.0 in /home/daria/anaconda3/lib/python3.12/site-packages (from astropy>=5->astropy_healpix) (23.2)\n"
     ]
    }
   ],
   "source": [
    "!pip install astropy_healpix"
   ]
  },
  {
   "cell_type": "code",
   "execution_count": 40,
   "metadata": {
    "id": "elNSW8OAKlXO"
   },
   "outputs": [],
   "source": [
    "from astropy_healpix import HEALPix\n",
    "import astropy.coordinates as coord"
   ]
  },
  {
   "cell_type": "code",
   "execution_count": 41,
   "metadata": {
    "colab": {
     "base_uri": "https://localhost:8080/"
    },
    "id": "HYNt3uMI1W-C",
    "outputId": "ca797b06-af17-4901-c062-eb8c8404d0fe"
   },
   "outputs": [
    {
     "name": "stdout",
     "output_type": "stream",
     "text": [
      "KeysView(NpzFile 'I_355_tgextmap.npz' with keys: HPId, HPlevel, A0, e_A0, Ntracers)\n"
     ]
    }
   ],
   "source": [
    "data = np.load('I_355_tgextmap.npz')\n",
    "print(data.keys())"
   ]
  },
  {
   "cell_type": "code",
   "execution_count": 42,
   "metadata": {
    "id": "W8sJWPuh3Gkk"
   },
   "outputs": [],
   "source": [
    "extinction_map = data['A0']"
   ]
  },
  {
   "cell_type": "code",
   "execution_count": 43,
   "metadata": {
    "id": "To7X0RwS2fbJ"
   },
   "outputs": [],
   "source": [
    "ra, dec = sed['_RAJ2000'][0].data, sed['_DEJ2000'][0].data\n",
    "c = coord.SkyCoord(ra * u.deg, dec * u.deg, distance = 1.34 * u.pc, frame='icrs')"
   ]
  },
  {
   "cell_type": "code",
   "execution_count": 44,
   "metadata": {
    "id": "PcGYTxdLnccs"
   },
   "outputs": [],
   "source": [
    "hp_level = 9\n",
    "NSIDE = 2**hp_level\n",
    "Npix = 12*NSIDE**2"
   ]
  },
  {
   "cell_type": "code",
   "execution_count": 45,
   "metadata": {
    "colab": {
     "base_uri": "https://localhost:8080/"
    },
    "id": "dIIOvKme3bc-",
    "outputId": "1909c1fc-ea83-426e-fbd3-4c202dff00fc"
   },
   "outputs": [
    {
     "name": "stdout",
     "output_type": "stream",
     "text": [
      "[0.]\n"
     ]
    }
   ],
   "source": [
    "hp = HEALPix(nside=NSIDE, order='nested', frame='icrs')\n",
    "extinction_value = extinction_map[np.where(data['HPId'] == hp.skycoord_to_healpix(c))]\n",
    "print(extinction_value)"
   ]
  },
  {
   "cell_type": "code",
   "execution_count": 47,
   "metadata": {
    "colab": {
     "base_uri": "https://localhost:8080/",
     "height": 293
    },
    "id": "qV15YCcDmbUz",
    "outputId": "41ab7e3e-8bb2-4ca7-fe5e-c9b1f08525d1"
   },
   "outputs": [
    {
     "data": {
      "text/html": [
       "<div><i>Table length=9</i>\n",
       "<table id=\"table134096336045136\" class=\"table-striped table-bordered table-condensed\">\n",
       "<thead><tr><th>lambda_nm</th><th>flux</th><th>eflux</th><th>flux_corr</th></tr></thead>\n",
       "<thead><tr><th>nm</th><th></th><th></th><th></th></tr></thead>\n",
       "<thead><tr><th>float64</th><th>float32</th><th>float32</th><th>float64</th></tr></thead>\n",
       "<tr><td>1649.48</td><td>5960.0</td><td>1220.0</td><td>5960.0</td></tr>\n",
       "<tr><td>1239.02</td><td>6020.0</td><td>740.0</td><td>6020.0</td></tr>\n",
       "<tr><td>2163.79</td><td>4290.0</td><td>1040.0</td><td>4290.0</td></tr>\n",
       "<tr><td>1649.48</td><td>5960.0</td><td>1220.0</td><td>5960.0</td></tr>\n",
       "<tr><td>1239.02</td><td>6020.0</td><td>740.0</td><td>6020.0</td></tr>\n",
       "<tr><td>2190.02</td><td>2580.0</td><td>720.0</td><td>2580.0</td></tr>\n",
       "<tr><td>2190.02</td><td>2580.0</td><td>720.0</td><td>2580.0</td></tr>\n",
       "<tr><td>2190.02</td><td>4150.0</td><td>1000.0</td><td>4150.0</td></tr>\n",
       "<tr><td>2190.02</td><td>4150.0</td><td>1000.0</td><td>4150.0</td></tr>\n",
       "</table></div>"
      ],
      "text/plain": [
       "<Table length=9>\n",
       "lambda_nm    flux   eflux  flux_corr\n",
       "    nm                              \n",
       " float64   float32 float32  float64 \n",
       "---------- ------- ------- ---------\n",
       "   1649.48  5960.0  1220.0    5960.0\n",
       "   1239.02  6020.0   740.0    6020.0\n",
       "   2163.79  4290.0  1040.0    4290.0\n",
       "   1649.48  5960.0  1220.0    5960.0\n",
       "   1239.02  6020.0   740.0    6020.0\n",
       "   2190.02  2580.0   720.0    2580.0\n",
       "   2190.02  2580.0   720.0    2580.0\n",
       "   2190.02  4150.0  1000.0    4150.0\n",
       "   2190.02  4150.0  1000.0    4150.0"
      ]
     },
     "execution_count": 47,
     "metadata": {},
     "output_type": "execute_result"
    }
   ],
   "source": [
    "t['flux_corr'] = t['flux'] * 10**(0.4 * extinction_value)\n",
    "t"
   ]
  },
  {
   "cell_type": "code",
   "execution_count": null,
   "metadata": {
    "id": "9hw0TNM_nzY7"
   },
   "outputs": [],
   "source": []
  }
 ],
 "metadata": {
  "colab": {
   "gpuType": "T4",
   "provenance": []
  },
  "kernelspec": {
   "display_name": "Python 3",
   "language": "python",
   "name": "python3"
  },
  "language_info": {
   "codemirror_mode": {
    "name": "ipython",
    "version": 3
   },
   "file_extension": ".py",
   "mimetype": "text/x-python",
   "name": "python",
   "nbconvert_exporter": "python",
   "pygments_lexer": "ipython3",
   "version": "3.12.2"
  }
 },
 "nbformat": 4,
 "nbformat_minor": 4
}
